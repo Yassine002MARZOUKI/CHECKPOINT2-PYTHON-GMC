{
 "cells": [
  {
   "cell_type": "code",
   "execution_count": null,
   "id": "509f76ac",
   "metadata": {},
   "outputs": [],
   "source": [
    "username = input(\"tap your username : \")"
   ]
  },
  {
   "cell_type": "code",
   "execution_count": null,
   "id": "21e37b82",
   "metadata": {
    "scrolled": true
   },
   "outputs": [],
   "source": [
    "lastname = input(\"tap your lastname : \")"
   ]
  },
  {
   "cell_type": "code",
   "execution_count": null,
   "id": "16e4ed7e",
   "metadata": {},
   "outputs": [],
   "source": [
    "Name = lastname + \" \" + username"
   ]
  },
  {
   "cell_type": "code",
   "execution_count": null,
   "id": "b82ebdb5",
   "metadata": {},
   "outputs": [],
   "source": [
    "print(Name) #1er exo"
   ]
  },
  {
   "cell_type": "code",
   "execution_count": null,
   "id": "0d941b44",
   "metadata": {},
   "outputs": [],
   "source": [
    "n = int(input(\"Donnez moi n'importe quel entier : \"))"
   ]
  },
  {
   "cell_type": "code",
   "execution_count": null,
   "id": "56a23b71",
   "metadata": {},
   "outputs": [],
   "source": [
    "T = str(n)"
   ]
  },
  {
   "cell_type": "code",
   "execution_count": null,
   "id": "ee092592",
   "metadata": {},
   "outputs": [],
   "source": [
    "T1= T"
   ]
  },
  {
   "cell_type": "code",
   "execution_count": null,
   "id": "e893fce5",
   "metadata": {},
   "outputs": [],
   "source": [
    "T2= T+T"
   ]
  },
  {
   "cell_type": "code",
   "execution_count": null,
   "id": "2f114a72",
   "metadata": {},
   "outputs": [],
   "source": [
    "T3= T+T+T"
   ]
  },
  {
   "cell_type": "code",
   "execution_count": null,
   "id": "33ca3a8c",
   "metadata": {},
   "outputs": [],
   "source": [
    "print(\"Le résultat est: \"+ (T1+T2+T3)) #2ème exo"
   ]
  },
  {
   "cell_type": "code",
   "execution_count": null,
   "id": "03107142",
   "metadata": {
    "scrolled": true
   },
   "outputs": [],
   "source": [
    "n = int(input(\"Donnez moi n'importe quel entier :\"))"
   ]
  },
  {
   "cell_type": "code",
   "execution_count": null,
   "id": "2ef491ca",
   "metadata": {},
   "outputs": [],
   "source": [
    "if n%2==0 :\n",
    "    print(\"L'entier que vous avez entré est paire\")\n",
    "else :\n",
    "    print(\"L'entier que vous avez entré est impaire\") #3ème exo"
   ]
  },
  {
   "cell_type": "code",
   "execution_count": null,
   "id": "62f7b1fc",
   "metadata": {},
   "outputs": [],
   "source": [
    "résultat = []"
   ]
  },
  {
   "cell_type": "code",
   "execution_count": null,
   "id": "96ea682c",
   "metadata": {},
   "outputs": [],
   "source": [
    "for i in range(2000,3201):\n",
    "    if(i%7 == 0) and (i%5 != 0):\n",
    "        résultat.append(str(i))\n",
    "        "
   ]
  },
  {
   "cell_type": "code",
   "execution_count": null,
   "id": "cb79c1e6",
   "metadata": {},
   "outputs": [],
   "source": [
    "print(\",\".join(résultat)) #4ème exo"
   ]
  },
  {
   "cell_type": "code",
   "execution_count": 3,
   "id": "fd1231e8",
   "metadata": {},
   "outputs": [
    {
     "name": "stdout",
     "output_type": "stream",
     "text": [
      "entrez n'importe quel entier8\n"
     ]
    }
   ],
   "source": [
    "def factorial(n):\n",
    "    if n == 0:\n",
    "        return 1\n",
    "    else:\n",
    "        return n * factorial(n-1)\n",
    "num = int(input(\"entrez n'importe quel entier\"))    "
   ]
  },
  {
   "cell_type": "code",
   "execution_count": 4,
   "id": "471724ba",
   "metadata": {},
   "outputs": [
    {
     "name": "stdout",
     "output_type": "stream",
     "text": [
      "40320\n"
     ]
    }
   ],
   "source": [
    "print(factorial(num)) #5ème exo"
   ]
  },
  {
   "cell_type": "code",
   "execution_count": 7,
   "id": "98134c21",
   "metadata": {
    "scrolled": false
   },
   "outputs": [
    {
     "name": "stdout",
     "output_type": "stream",
     "text": [
      "entrez le prix de l'article300\n"
     ]
    }
   ],
   "source": [
    "price = float(input(\"entrez le prix de l'article\"))"
   ]
  },
  {
   "cell_type": "code",
   "execution_count": 9,
   "id": "65589691",
   "metadata": {},
   "outputs": [],
   "source": [
    "if price >= 500:\n",
    "    price = price/2\n",
    "if (price < 500) and (price >= 200):\n",
    "    price -= (price/100)*30\n",
    "elif price < 200:\n",
    "    price -= (price/100)*10"
   ]
  },
  {
   "cell_type": "code",
   "execution_count": 6,
   "id": "8ced7503",
   "metadata": {
    "scrolled": true
   },
   "outputs": [
    {
     "name": "stdout",
     "output_type": "stream",
     "text": [
      "280.0 $\n"
     ]
    }
   ],
   "source": [
    "print(str(price) +\" \"+ \"$\") #7ème exo"
   ]
  },
  {
   "cell_type": "code",
   "execution_count": 7,
   "id": "cb077101",
   "metadata": {},
   "outputs": [
    {
     "name": "stdout",
     "output_type": "stream",
     "text": [
      ":azerty\n",
      "aet\n"
     ]
    }
   ],
   "source": [
    "def supprimer_les_caractères_d_indice_impaires(n):\n",
    "    return ''.join([n[i] for i in range(len(n)) if i % 2 == 0])\n",
    "n=str(input(\":\"))\n",
    "résultat = supprimer_les_caractères_d_indice_impaires(n)\n",
    "print(résultat) #6ème exo"
   ]
  },
  {
   "cell_type": "code",
   "execution_count": null,
   "id": "de9f9bf6",
   "metadata": {},
   "outputs": [],
   "source": [
    "z"
   ]
  }
 ],
 "metadata": {
  "kernelspec": {
   "display_name": "Python 3 (ipykernel)",
   "language": "python",
   "name": "python3"
  },
  "language_info": {
   "codemirror_mode": {
    "name": "ipython",
    "version": 3
   },
   "file_extension": ".py",
   "mimetype": "text/x-python",
   "name": "python",
   "nbconvert_exporter": "python",
   "pygments_lexer": "ipython3",
   "version": "3.9.13"
  }
 },
 "nbformat": 4,
 "nbformat_minor": 5
}
